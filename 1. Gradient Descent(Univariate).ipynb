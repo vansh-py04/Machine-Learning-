{
 "cells": [
  {
   "cell_type": "code",
   "execution_count": 1,
   "metadata": {},
   "outputs": [],
   "source": [
    "import pandas as pd\n",
    "import numpy as np\n",
    "from functools import reduce"
   ]
  },
  {
   "cell_type": "markdown",
   "metadata": {},
   "source": [
    "Creating a Gradient Descent Algo from scratch"
   ]
  },
  {
   "cell_type": "code",
   "execution_count": 4,
   "metadata": {},
   "outputs": [],
   "source": [
    "class GradientDescent():\n",
    "    def __init__(self):\n",
    "        self.w = 0 #slope or weight \n",
    "        self.b = 0 #intercept or bias\n",
    "        self.y_predicted = []\n",
    "        self.cost_history = []\n",
    "\n",
    "    def calc_gradient(self,x,y,v):\n",
    "        res = 2*(v[0]*x + v[1] - y)\n",
    "        return (res*x).mean() , res.mean() #djdw,djdb\n",
    "\n",
    "    def fit(self,x,y,learn_rate=0.1,n_iter=100):\n",
    "\n",
    "        for i in range(n_iter):\n",
    "            vector = [self.w,self.b]\n",
    "            grad = self.calc_gradient(x,y,vector)\n",
    "            self.w = self.w - learn_rate*grad[0]\n",
    "            self.b = self.b - learn_rate*grad[1]\n",
    "\n",
    "            self.cost_history.append(self.cost(x,y,vector))\n",
    "\n",
    "            if self.b==0 and self.w==0:\n",
    "                break\n",
    "    \n",
    "    def cost(self,x,y,v):\n",
    "        m = x.shape[0]\n",
    "        cost_array = (v[0]*x + v[1] - y)**2\n",
    "        cost = reduce(lambda a,b:a+b,cost_array)\n",
    "        total_cost = 1/(2*m) * cost\n",
    "        return total_cost\n",
    "\n",
    "    def predict(self,x_test):\n",
    "        w,b = self.w,self.b\n",
    "        for i in x_test:\n",
    "            self.y_predicted.append(w*i+b)\n",
    "\n",
    "        return self.y_predicted\n",
    "\n",
    "    def mse(self,y_valid):\n",
    "        mse = reduce(lambda x,y: x+y,(y_valid-self.y_predicted)**2)\n",
    "        return mse/y_valid.shape[0]"
   ]
  },
  {
   "cell_type": "markdown",
   "metadata": {},
   "source": [
    "Testing"
   ]
  },
  {
   "cell_type": "code",
   "execution_count": 5,
   "metadata": {},
   "outputs": [],
   "source": [
    "x = np.array([1,2,3,4])\n",
    "y = np.array([10,20,30,40])\n",
    "x_valid = np.array([5,6,7])\n",
    "y_valid = np.array([50,60,70])"
   ]
  },
  {
   "cell_type": "code",
   "execution_count": 6,
   "metadata": {},
   "outputs": [],
   "source": [
    "model = GradientDescent()\n",
    "model.fit(x,y)"
   ]
  },
  {
   "cell_type": "markdown",
   "metadata": {},
   "source": [
    "Cost history"
   ]
  },
  {
   "cell_type": "code",
   "execution_count": 10,
   "metadata": {},
   "outputs": [
    {
     "name": "stdout",
     "output_type": "stream",
     "text": [
      "[375.0, 168.75, 76.125, 34.51687500000001, 15.815643750000003, 7.400365125000002, 3.6043980393750017, 1.8834590094187498, 1.095149851456123, 0.7264968620445907, 0.5471298260017712, 0.4535655339286196, 0.39929374067503454, 0.36338686145345506, 0.33640613198510194, 0.31407357449520557, 0.2944306777846299, 0.27656255689641207, 0.26002499272200613, 0.2445870595948549, 0.23011545341180034, 0.21652244756357714, 0.20374242304688617, 0.19172123393955998, 0.18041134143867965, 0.16976954326029992, 0.1597558733739753, 0.1503330319623481, 0.1414660579271601, 0.13312211451466044, 0.12527032970115304, 0.11788166490215768, 0.11092879991526239, 0.10438602846105319, 0.0982291615966661, 0.09243543759457033, 0.08698343748186166, 0.08185300571608131, 0.07702517560926671, 0.0724820991818367, 0.06820698116783765, 0.06418401691896773, 0.06039833397395407, 0.05683593707553248, 0.053483656430994356, 0.05032909902467014, 0.04736060280219582, 0.04456719355712922, 0.04193854436048175, 0.03946493738318268, 0.03713722797032068, 0.03494681083435075, 0.032885588242287184, 0.03094594007926603, 0.029120695677813235, 0.02740310730867072, 0.025786825235175892, 0.024265874238981265, 0.022834631530322343, 0.021487805961178334, 0.02022041846447646, 0.01902778364702461, 0.01790549246812313, 0.01684939593982294, 0.015855589788572023, 0.014920400021539706, 0.014040369344268722, 0.013212244379433, 0.01243296363945831, 0.011699646208536573, 0.011009581092194798, 0.010360217195043871, 0.009749153889658881, 0.009174132141719644, 0.00863302615860951, 0.00812383553059058, 0.007644677835508452, 0.0071937816796822495, 0.006769480149256049, 0.006370204647800023, 0.005994479097381492, 0.005640914481664786, 0.005308203710870202, 0.004995116789606266, 0.004700496269710071, 0.004423252971288423, 0.0041623619561382726, 0.003916858738662922, 0.003685835720273001, 0.0034684388340944354, 0.003263864387575863, 0.0030713560913255386, 0.002890202263191757, 0.00271973319725152, 0.0025593186879810325, 0.002408365700454875, 0.0022663161779602403, 0.0021326449789226412, 0.0020068579355142337, 0.0018884900267700363]\n"
     ]
    }
   ],
   "source": [
    "print(model.cost_history)"
   ]
  },
  {
   "cell_type": "code",
   "execution_count": 8,
   "metadata": {},
   "outputs": [
    {
     "name": "stdout",
     "output_type": "stream",
     "text": [
      "[49.89779472561619, 59.8481775775431, 69.79856042947]\n"
     ]
    }
   ],
   "source": [
    "predictions = model.predict(x_valid)\n",
    "print(predictions)"
   ]
  },
  {
   "cell_type": "markdown",
   "metadata": {},
   "source": [
    "Mean squared error"
   ]
  },
  {
   "cell_type": "code",
   "execution_count": 9,
   "metadata": {},
   "outputs": [
    {
     "data": {
      "text/plain": [
       "0.024691288882621037"
      ]
     },
     "execution_count": 9,
     "metadata": {},
     "output_type": "execute_result"
    }
   ],
   "source": [
    "error = model.mse(y_valid)\n",
    "error"
   ]
  },
  {
   "cell_type": "markdown",
   "metadata": {},
   "source": [
    "Cost function graph w.r.t no.of Iterations"
   ]
  },
  {
   "cell_type": "code",
   "execution_count": 6,
   "metadata": {},
   "outputs": [
    {
     "data": {
      "image/png": "[encoded data removed]",
      "text/plain": [
       "<Figure size 640x480 with 1 Axes>"
      ]
     },
     "metadata": {},
     "output_type": "display_data"
    }
   ],
   "source": [
    "import matplotlib.pyplot as plt\n",
    "nb = np.arange(100)\n",
    "j = model.cost_history\n",
    "plt.plot(nb,j,color='b')\n",
    "plt.xlabel(\"Number of iterations\")\n",
    "plt.ylabel(\"Cost\")\n",
    "plt.title(\"Cost vs Number of iterations\")\n",
    "plt.show()"
   ]
  },
  {
   "cell_type": "code",
   "execution_count": null,
   "metadata": {},
   "outputs": [],
   "source": []
  }
 ],
 "metadata": {
  "kernelspec": {
   "display_name": "Python 3",
   "language": "python",
   "name": "python3"
  },
  "language_info": {
   "codemirror_mode": {
    "name": "ipython",
    "version": 3
   },
   "file_extension": ".py",
   "mimetype": "text/x-python",
   "name": "python",
   "nbconvert_exporter": "python",
   "pygments_lexer": "ipython3",
   "version": "3.11.8"
  }
 },
 "nbformat": 4,
 "nbformat_minor": 2
}
