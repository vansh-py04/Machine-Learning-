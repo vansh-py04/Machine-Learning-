{
 "cells": [
  {
   "cell_type": "code",
   "execution_count": 3,
   "metadata": {},
   "outputs": [],
   "source": [
    "import numpy as np \n",
    "from collections import Counter\n",
    "import pandas as pd"
   ]
  },
  {
   "cell_type": "code",
   "execution_count": 4,
   "metadata": {},
   "outputs": [],
   "source": [
    "class KNN:\n",
    "    def __init__(self,k,type=\"Classify\"):\n",
    "        self.k = k\n",
    "        self.type = type\n",
    "    \n",
    "    def fit(self,x,y):\n",
    "        self.X_train = x\n",
    "        self.Y_train = y\n",
    "    \n",
    "    def predict(self,x_test):\n",
    "        pred = [self.single_prediction(i) for i in x_test]\n",
    "        return pred\n",
    "    \n",
    "    def single_prediction(self,x):\n",
    "        distance = [self.Euclid_dist(x,i) for i in self.X_train]\n",
    "        idx = np.argsort(distance)[:self.k]\n",
    "\n",
    "        k_nearest_label = [self.Y_train[i] for i in idx]\n",
    "        if self.type == \"Regression\":\n",
    "            return np.mean(k_nearest_label)\n",
    "        else:\n",
    "            most_common = Counter(k_nearest_label).most_common()\n",
    "            return most_common[0][0] \n",
    "    \n",
    "    def Euclid_dist(self,x1,x2):\n",
    "        return np.sqrt(np.sum((x1-x2)**2))\n",
    "    \n",
    "    def score(self,y_test,y_pred):\n",
    "        if self.type==\"Regression\":\n",
    "            return np.mean((y_test-y_pred)**2)\n",
    "        else:\n",
    "            return sum(1 for i in range(len(y_test)) if y_test[i] == y_pred[i]) / len(y_pred)"
   ]
  },
  {
   "cell_type": "markdown",
   "metadata": {},
   "source": [
    "---\n",
    "## Validating the algorithm on Classification"
   ]
  },
  {
   "cell_type": "code",
   "execution_count": 6,
   "metadata": {},
   "outputs": [],
   "source": [
    "from sklearn.datasets import load_iris\n",
    "x,y = load_iris().data, load_iris().target\n",
    "from sklearn.model_selection import train_test_split\n",
    "x_train,x_test, y_train,y_test = train_test_split(x,y,random_state=42)\n",
    "model = KNN(4)\n",
    "model.fit(x_train,y_train)"
   ]
  },
  {
   "cell_type": "code",
   "execution_count": 7,
   "metadata": {},
   "outputs": [
    {
     "data": {
      "text/plain": [
       "[1,\n",
       " 0,\n",
       " 2,\n",
       " 1,\n",
       " 1,\n",
       " 0,\n",
       " 1,\n",
       " 2,\n",
       " 1,\n",
       " 1,\n",
       " 2,\n",
       " 0,\n",
       " 0,\n",
       " 0,\n",
       " 0,\n",
       " 1,\n",
       " 2,\n",
       " 1,\n",
       " 1,\n",
       " 2,\n",
       " 0,\n",
       " 2,\n",
       " 0,\n",
       " 2,\n",
       " 2,\n",
       " 2,\n",
       " 2,\n",
       " 2,\n",
       " 0,\n",
       " 0,\n",
       " 0,\n",
       " 0,\n",
       " 1,\n",
       " 0,\n",
       " 0,\n",
       " 2,\n",
       " 1,\n",
       " 0]"
      ]
     },
     "execution_count": 7,
     "metadata": {},
     "output_type": "execute_result"
    }
   ],
   "source": [
    "pred = model.predict(x_test)\n",
    "pred"
   ]
  },
  {
   "cell_type": "code",
   "execution_count": 68,
   "metadata": {},
   "outputs": [
    {
     "data": {
      "text/plain": [
       "1.0"
      ]
     },
     "execution_count": 68,
     "metadata": {},
     "output_type": "execute_result"
    }
   ],
   "source": [
    "model.score(y_test,pred)"
   ]
  },
  {
   "cell_type": "markdown",
   "metadata": {},
   "source": [
    "---\n",
    "## Regression with KNN"
   ]
  },
  {
   "cell_type": "code",
   "execution_count": 1,
   "metadata": {},
   "outputs": [
    {
     "data": {
      "text/plain": [
       "['MedInc',\n",
       " 'HouseAge',\n",
       " 'AveRooms',\n",
       " 'AveBedrms',\n",
       " 'Population',\n",
       " 'AveOccup',\n",
       " 'Latitude',\n",
       " 'Longitude']"
      ]
     },
     "execution_count": 1,
     "metadata": {},
     "output_type": "execute_result"
    }
   ],
   "source": [
    "from sklearn.linear_model import LinearRegression\n",
    "regressor = LinearRegression()\n",
    "from sklearn.datasets import fetch_california_housing\n",
    "dataset = fetch_california_housing()\n",
    "dataset.feature_names"
   ]
  },
  {
   "cell_type": "code",
   "execution_count": 5,
   "metadata": {},
   "outputs": [],
   "source": [
    "X,Y = pd.DataFrame(dataset.data,columns=dataset.feature_names), dataset.target\n",
    "from sklearn.preprocessing import StandardScaler\n",
    "sc = StandardScaler()\n",
    "X = sc.fit_transform(X)\n",
    "from sklearn.model_selection import train_test_split\n",
    "X_train,X_test, Y_train,Y_test = train_test_split(X,Y,random_state=42)"
   ]
  },
  {
   "cell_type": "code",
   "execution_count": 6,
   "metadata": {},
   "outputs": [
    {
     "data": {
      "text/plain": [
       "array([[ 0.18087872,  0.66431034, -0.05689491, ..., -0.0521138 ,\n",
       "        -0.85297106,  0.72359203],\n",
       "       [ 0.77700173,  1.06160074,  0.37804328, ..., -0.06413879,\n",
       "         0.71545395, -1.20305254],\n",
       "       [ 0.02549196,  0.58485227,  0.27527566, ..., -0.08037958,\n",
       "         1.31941463, -1.55743535],\n",
       "       ...,\n",
       "       [-0.49283239,  0.58485227, -0.58294927, ...,  0.02517025,\n",
       "        -0.74997001,  0.59381804],\n",
       "       [ 0.97302487, -1.08376738,  0.39058403, ...,  0.01042151,\n",
       "         0.91209231, -1.19306993],\n",
       "       [-0.68174943,  1.85618152, -0.81905034, ..., -0.09262259,\n",
       "         1.00104776, -1.42267006]])"
      ]
     },
     "execution_count": 6,
     "metadata": {},
     "output_type": "execute_result"
    }
   ],
   "source": [
    "X_train"
   ]
  },
  {
   "cell_type": "code",
   "execution_count": 7,
   "metadata": {},
   "outputs": [
    {
     "data": {
      "text/plain": [
       "0.45580732183186895"
      ]
     },
     "execution_count": 7,
     "metadata": {},
     "output_type": "execute_result"
    }
   ],
   "source": [
    "testing_model = KNN(3,type=\"Regression\")\n",
    "testing_model.fit(X_train,Y_train)\n",
    "predictions_whole_data = testing_model.predict(X_test)\n",
    "score = testing_model.score(Y_test,predictions_whole_data)\n",
    "score"
   ]
  }
 ],
 "metadata": {
  "kernelspec": {
   "display_name": "Python 3",
   "language": "python",
   "name": "python3"
  },
  "language_info": {
   "codemirror_mode": {
    "name": "ipython",
    "version": 3
   },
   "file_extension": ".py",
   "mimetype": "text/x-python",
   "name": "python",
   "nbconvert_exporter": "python",
   "pygments_lexer": "ipython3",
   "version": "3.11.9"
  }
 },
 "nbformat": 4,
 "nbformat_minor": 2
}
