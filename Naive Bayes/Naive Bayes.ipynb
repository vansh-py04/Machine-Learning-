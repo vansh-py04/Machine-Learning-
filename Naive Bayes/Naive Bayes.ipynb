{
 "cells": [
  {
   "cell_type": "code",
   "execution_count": 1,
   "metadata": {},
   "outputs": [],
   "source": [
    "import numpy as np\n",
    "\n",
    "class NaiveBayes:\n",
    "    def fit(self,X_train, Y_train):\n",
    "        n_samples, n_features = X_train.shape\n",
    "        self.classes = np.unique(Y_train)\n",
    "        n_classes = len(self.classes)\n",
    "\n",
    "        self.means = np.zeros((n_classes,n_features))\n",
    "        self.var = np.zeros((n_classes,n_features))\n",
    "        self.prior = np.zeros(n_classes)\n",
    "\n",
    "        for idx, cls in enumerate(self.classes):\n",
    "            x_c = X_train[Y_train==cls]\n",
    "        \n",
    "            self.prior[idx] = len(x_c)/n_samples\n",
    "            self.means[idx,:] = x_c.mean(axis=0)\n",
    "            self.var[idx,:] = x_c.var(axis=0)\n",
    "    \n",
    "    def predict(self,X_test):\n",
    "        return [self.single_prediction(x) for x in X_test]\n",
    "\n",
    "    def single_prediction(self,x):\n",
    "        posterior = []\n",
    "        for idx,c in enumerate(self.classes):\n",
    "            prior = np.log(self.prior[idx])\n",
    "            likelihood = np.sum(np.log(self.gaussian(idx,x)))\n",
    "            posterior.append(prior + likelihood)\n",
    "            \n",
    "        return self.classes[np.argmax(posterior)]\n",
    "    \n",
    "    def gaussian(self,idx,x):\n",
    "        mean = self.means[idx]\n",
    "        var = self.var[idx]\n",
    "        expo = -np.sum(((x-mean)**2)/2*var)\n",
    "        return np.exp(expo)/np.sqrt(2*np.pi*var)\n",
    "    \n",
    "    def score(self,y_test,y_pred):\n",
    "        return sum(1 for i in range(len(y_test)) if y_test[i] == y_pred[i]) / len(y_pred)"
   ]
  },
  {
   "cell_type": "code",
   "execution_count": 2,
   "metadata": {},
   "outputs": [],
   "source": [
    "from sklearn.datasets import make_classification\n",
    "X,Y = make_classification(50,5,n_classes=2,random_state=42)\n",
    "model = NaiveBayes()"
   ]
  },
  {
   "cell_type": "code",
   "execution_count": 3,
   "metadata": {},
   "outputs": [],
   "source": [
    "from sklearn.model_selection import train_test_split\n",
    "X_train, X_test, Y_train, Y_test = train_test_split(X,Y,random_state=42)\n",
    "model.fit(X_train,Y_train)"
   ]
  },
  {
   "cell_type": "code",
   "execution_count": 4,
   "metadata": {},
   "outputs": [
    {
     "data": {
      "text/plain": [
       "[0, 0, 0, 1, 0, 1, 1, 1, 1, 1, 0, 0, 0]"
      ]
     },
     "execution_count": 4,
     "metadata": {},
     "output_type": "execute_result"
    }
   ],
   "source": [
    "pred = model.predict(X_test)\n",
    "pred"
   ]
  },
  {
   "cell_type": "code",
   "execution_count": 5,
   "metadata": {},
   "outputs": [
    {
     "data": {
      "text/plain": [
       "0.9230769230769231"
      ]
     },
     "execution_count": 5,
     "metadata": {},
     "output_type": "execute_result"
    }
   ],
   "source": [
    "score = model.score(Y_test,pred)\n",
    "score"
   ]
  }
 ],
 "metadata": {
  "kernelspec": {
   "display_name": "Python 3",
   "language": "python",
   "name": "python3"
  },
  "language_info": {
   "codemirror_mode": {
    "name": "ipython",
    "version": 3
   },
   "file_extension": ".py",
   "mimetype": "text/x-python",
   "name": "python",
   "nbconvert_exporter": "python",
   "pygments_lexer": "ipython3",
   "version": "3.11.9"
  }
 },
 "nbformat": 4,
 "nbformat_minor": 2
}
